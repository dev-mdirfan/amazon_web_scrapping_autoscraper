{
 "cells": [
  {
   "cell_type": "markdown",
   "id": "f3fc7285",
   "metadata": {},
   "source": [
    "# Amazon Website Scrapping"
   ]
  },
  {
   "cell_type": "markdown",
   "id": "5f63045c",
   "metadata": {},
   "source": [
    "## Installation\n",
    "\n",
    "- `%pip install autoscraper`"
   ]
  },
  {
   "cell_type": "code",
   "execution_count": 17,
   "id": "02c35adb",
   "metadata": {},
   "outputs": [],
   "source": [
    "from autoscraper import AutoScraper\n",
    "import pandas as pd"
   ]
  },
  {
   "cell_type": "code",
   "execution_count": 18,
   "id": "8455ceae",
   "metadata": {},
   "outputs": [
    {
     "name": "stdout",
     "output_type": "stream",
     "text": [
      "https://www.amazon.in/s?k=headphones&s=price-desc-rank\n"
     ]
    }
   ],
   "source": [
    "search = \"headphones\"\n",
    "amazon_url=\"https://www.amazon.in/s?k={}&s=price-desc-rank\".format(search)\n",
    "print(amazon_url)"
   ]
  },
  {
   "cell_type": "code",
   "execution_count": 20,
   "id": "e029b034",
   "metadata": {},
   "outputs": [],
   "source": [
    "wanted_list=[\"https://m.media-amazon.com/images/I/81vwmD1hoPL._AC_UY218_.jpg\", \"Ether Flow 1.1 Open Back Headphone\",\"2,45,999\",\"5\"]"
   ]
  },
  {
   "cell_type": "code",
   "execution_count": 21,
   "id": "26fd6b3f",
   "metadata": {},
   "outputs": [
    {
     "name": "stdout",
     "output_type": "stream",
     "text": [
      "['https://m.media-amazon.com/images/I/81vwmD1hoPL._AC_UY218_.jpg', 'https://m.media-amazon.com/images/I/61ym95uW6xL._AC_UY218_.jpg', 'https://m.media-amazon.com/images/I/41srjQU1F2L._AC_UY218_.jpg', 'https://m.media-amazon.com/images/I/31LIIht7pqL._AC_UY218_.jpg', 'https://m.media-amazon.com/images/I/51jivNPE6TL._AC_UY218_.jpg', 'https://m.media-amazon.com/images/I/31c0ymjprTL._AC_UY218_.jpg', 'https://m.media-amazon.com/images/I/71lKmUUztfL._AC_UY218_.jpg', 'https://m.media-amazon.com/images/I/71U8-ufxAML._AC_UY218_.jpg', 'https://m.media-amazon.com/images/I/61v3yPBOihL._AC_UY218_.jpg', 'https://m.media-amazon.com/images/I/411RKgpd37L._AC_UY218_.jpg', 'https://m.media-amazon.com/images/I/61pOxzsOk-L._AC_UY218_.jpg', 'https://m.media-amazon.com/images/I/51Dv8zB--vL._AC_UY218_.jpg', 'https://m.media-amazon.com/images/I/51rUGqmCjUL._AC_UY218_.jpg', 'https://m.media-amazon.com/images/I/81-PY8bkVTL._AC_UY218_.jpg', 'https://m.media-amazon.com/images/I/51-+PgutORL._AC_UY218_.jpg', 'https://m.media-amazon.com/images/I/41azeAu1iFL._AC_UY218_.jpg', 'Ether Flow 1.1 Open Back Headphone', 'ATIVA Kids On-Ear Wired Headphones, Red/Gray, WD-LG01-RED', 'HIFIMAN RE2000 Silver Topology Diaphragm Dynamic Driver in-Ear Monitors Headphones Earphone Earbuds Noise Isolating Easy Cable Swapping', 'GlobalNiche® Bluetooth Wireless Handfree Headset Sports Stereo Headphone Earphone Universal', 'Sony MDR-Z7M2 Hi-Res Stereo Overhead Wired On Ear Headphones Headphone (MDRZ7M2) Black', 'QUAD - ERA-1 Planar Magnetic Headphones', 'HiFiMAN Arya Stealth Magnet Version Full-Size Wired Over Ear Headphones Without Mic Planar Magnetic for Audiophiles/Studio', 'Sony IER-M7 Wired In Ear Headphone without Mic (Black)', 'Spring 2 in Ear Monitor Stereo HiFi Headphones Hybrid BA Dynamic Driver Piezoelectric Headset Detachable Earphone Cable with Carrying Case-POOWE', 'Light Harmonic Mera High Performance Dynamic Driver Noise Isolation in-Ear Monitors Earphones and Headphones with Detachable Cables. (Grey)', 'Astell & Kern JH Audio Special Edition Angie Headphones, Red 2EP008-CMRD68', 'Light Harmonic Mera High Performance Dynamic Driver Noise Isolation in-Ear Monitors Earphones and Headphones with Detachable Cables. (Red)', 'HIDIZS MS4 HiFi in-Ear Monitor Headphones, Hi-Res Audio IEM Earphones with Detachable Cable Four Driver Hybrid (1 Dynamic + 3 Knowles BA) Noise-Isolating Musician Headset (Red)', 'beyerdynamic T5 High-end Tesla Headphones (3rd Generation) Closed', 'FiiO FH7 5-Drive (1DD + 4BAs) Hybrid in-Ear Earphones/Headphones with DIY Sound Filters,High Fidelity for Smartphones/PC/Tablet (Black)', 'Ultimate Ears FITS True Wireless Bluetooth Custom Fit Earbuds, All Day Comfort, Built-in-Mic, Premium Audio, Passive Noise Cancelling Earphones, 20 Hour Playtime, Sweat Resistant Headphones - Grey', 'HIFIMAN RE2000 Silver Topology Diaphragm Dynamic Driver in-Ear Monitors Headphones Earphone Earbuds Noise Isolating Easy C...', 'Spring 2 in Ear Monitor Stereo HiFi Headphones Hybrid BA Dynamic Driver Piezoelectric Headset Detachable Earphone Cable wi...', 'Light Harmonic Mera High Performance Dynamic Driver Noise Isolation in-Ear Monitors Earphones and Headphones with Detachab...', 'HIDIZS MS4 HiFi in-Ear Monitor Headphones, Hi-Res Audio IEM Earphones with Detachable Cable Four Driver Hybrid (1 Dynamic...', 'FiiO FH7 5-Drive (1DD + 4BAs) Hybrid in-Ear Earphones/Headphones with DIY Sound Filters,High Fidelity for Smartphones/PC/T...', 'Ultimate Ears FITS True Wireless Bluetooth Custom Fit Earbuds, All Day Comfort, Built-in-Mic, Premium Audio, Passive Noise...', '2,45,999', '1,37,289', '1,26,024', '1,25,262', '1,19,999', '1,10,785', '1,06,538', '89,899', '85,183', '1', '3', '5', '7', '2', '4', '6', '8', '9', '10', '11', '12', '13', '14', '15', '16', '17', '18', '91', '237', '49', '60', '319', '597']\n"
     ]
    }
   ],
   "source": [
    "scraper=AutoScraper()\n",
    "result=scraper.build(amazon_url,wanted_list)\n",
    "print(result)"
   ]
  },
  {
   "cell_type": "code",
   "execution_count": 22,
   "id": "83af2af3",
   "metadata": {},
   "outputs": [
    {
     "name": "stdout",
     "output_type": "stream",
     "text": [
      "{'rule_1ft3': ['https://m.media-amazon.com/images/I/81vwmD1hoPL._AC_UY218_.jpg', 'https://m.media-amazon.com/images/I/61ym95uW6xL._AC_UY218_.jpg', 'https://m.media-amazon.com/images/I/41srjQU1F2L._AC_UY218_.jpg', 'https://m.media-amazon.com/images/I/31LIIht7pqL._AC_UY218_.jpg', 'https://m.media-amazon.com/images/I/51jivNPE6TL._AC_UY218_.jpg', 'https://m.media-amazon.com/images/I/31c0ymjprTL._AC_UY218_.jpg', 'https://m.media-amazon.com/images/I/71lKmUUztfL._AC_UY218_.jpg', 'https://m.media-amazon.com/images/I/71U8-ufxAML._AC_UY218_.jpg', 'https://m.media-amazon.com/images/I/61v3yPBOihL._AC_UY218_.jpg', 'https://m.media-amazon.com/images/I/411RKgpd37L._AC_UY218_.jpg', 'https://m.media-amazon.com/images/I/61pOxzsOk-L._AC_UY218_.jpg', 'https://m.media-amazon.com/images/I/51Dv8zB--vL._AC_UY218_.jpg', 'https://m.media-amazon.com/images/I/51rUGqmCjUL._AC_UY218_.jpg', 'https://m.media-amazon.com/images/I/81-PY8bkVTL._AC_UY218_.jpg', 'https://m.media-amazon.com/images/I/51-+PgutORL._AC_UY218_.jpg', 'https://m.media-amazon.com/images/I/41azeAu1iFL._AC_UY218_.jpg'], 'rule_0nz2': ['Ether Flow 1.1 Open Back Headphone', 'ATIVA Kids On-Ear Wired Headphones, Red/Gray, WD-LG01-RED', 'HIFIMAN RE2000 Silver Topology Diaphragm Dynamic Driver in-Ear Monitors Headphones Earphone Earbuds Noise Isolating Easy Cable Swapping', 'GlobalNiche® Bluetooth Wireless Handfree Headset Sports Stereo Headphone Earphone Universal', 'Sony MDR-Z7M2 Hi-Res Stereo Overhead Wired On Ear Headphones Headphone (MDRZ7M2) Black', 'QUAD - ERA-1 Planar Magnetic Headphones', 'HiFiMAN Arya Stealth Magnet Version Full-Size Wired Over Ear Headphones Without Mic Planar Magnetic for Audiophiles/Studio', 'Sony IER-M7 Wired In Ear Headphone without Mic (Black)', 'Spring 2 in Ear Monitor Stereo HiFi Headphones Hybrid BA Dynamic Driver Piezoelectric Headset Detachable Earphone Cable with Carrying Case-POOWE', 'Light Harmonic Mera High Performance Dynamic Driver Noise Isolation in-Ear Monitors Earphones and Headphones with Detachable Cables. (Grey)', 'Astell & Kern JH Audio Special Edition Angie Headphones, Red 2EP008-CMRD68', 'Light Harmonic Mera High Performance Dynamic Driver Noise Isolation in-Ear Monitors Earphones and Headphones with Detachable Cables. (Red)', 'HIDIZS MS4 HiFi in-Ear Monitor Headphones, Hi-Res Audio IEM Earphones with Detachable Cable Four Driver Hybrid (1 Dynamic + 3 Knowles BA) Noise-Isolating Musician Headset (Red)', 'beyerdynamic T5 High-end Tesla Headphones (3rd Generation) Closed', 'FiiO FH7 5-Drive (1DD + 4BAs) Hybrid in-Ear Earphones/Headphones with DIY Sound Filters,High Fidelity for Smartphones/PC/Tablet (Black)', 'Ultimate Ears FITS True Wireless Bluetooth Custom Fit Earbuds, All Day Comfort, Built-in-Mic, Premium Audio, Passive Noise Cancelling Earphones, 20 Hour Playtime, Sweat Resistant Headphones - Grey'], 'rule_v4o8': ['Ether Flow 1.1 Open Back Headphone', 'ATIVA Kids On-Ear Wired Headphones, Red/Gray, WD-LG01-RED', 'HIFIMAN RE2000 Silver Topology Diaphragm Dynamic Driver in-Ear Monitors Headphones Earphone Earbuds Noise Isolating Easy C...', 'GlobalNiche® Bluetooth Wireless Handfree Headset Sports Stereo Headphone Earphone Universal', 'Sony MDR-Z7M2 Hi-Res Stereo Overhead Wired On Ear Headphones Headphone (MDRZ7M2) Black', 'QUAD - ERA-1 Planar Magnetic Headphones', 'HiFiMAN Arya Stealth Magnet Version Full-Size Wired Over Ear Headphones Without Mic Planar Magnetic for Audiophiles/Studio', 'Sony IER-M7 Wired In Ear Headphone without Mic (Black)', 'Spring 2 in Ear Monitor Stereo HiFi Headphones Hybrid BA Dynamic Driver Piezoelectric Headset Detachable Earphone Cable wi...', 'Light Harmonic Mera High Performance Dynamic Driver Noise Isolation in-Ear Monitors Earphones and Headphones with Detachab...', 'Astell & Kern JH Audio Special Edition Angie Headphones, Red 2EP008-CMRD68', 'Light Harmonic Mera High Performance Dynamic Driver Noise Isolation in-Ear Monitors Earphones and Headphones with Detachab...', 'HIDIZS MS4 HiFi in-Ear Monitor Headphones, Hi-Res Audio IEM Earphones with Detachable Cable Four Driver Hybrid (1 Dynamic...', 'beyerdynamic T5 High-end Tesla Headphones (3rd Generation) Closed', 'FiiO FH7 5-Drive (1DD + 4BAs) Hybrid in-Ear Earphones/Headphones with DIY Sound Filters,High Fidelity for Smartphones/PC/T...', 'Ultimate Ears FITS True Wireless Bluetooth Custom Fit Earbuds, All Day Comfort, Built-in-Mic, Premium Audio, Passive Noise...'], 'rule_o2ta': ['2,45,999', '1,37,289', '1,26,024', '1,25,262', '1,19,999', '1,10,785', '1,06,538', '89,899', '85,183'], 'rule_qxid': ['1', '3', '5', '7', '2', '4', '6', '8'], 'rule_biex': ['1', '2', '3', '4', '5', '6', '7', '8', '9', '10', '11', '12', '13', '14', '15', '16'], 'rule_ct0f': ['1', '2', '3', '4', '5', '6', '7', '8', '9', '10', '11', '12', '13', '14', '15', '16', '17', '18'], 'rule_uoyx': ['5'], 'rule_i2xn': ['5', '4', '3', '91', '237', '49', '7', '15', '7', '6', '60', '319', '597'], 'rule_ckei': ['5']}\n"
     ]
    }
   ],
   "source": [
    "data = scraper.get_result_similar(amazon_url,grouped=True)\n",
    "print(data)"
   ]
  },
  {
   "cell_type": "code",
   "execution_count": 23,
   "id": "f4e24334",
   "metadata": {},
   "outputs": [
    {
     "name": "stdout",
     "output_type": "stream",
     "text": [
      "['rule_1ft3', 'rule_0nz2', 'rule_v4o8', 'rule_o2ta', 'rule_qxid', 'rule_biex', 'rule_ct0f', 'rule_uoyx', 'rule_i2xn', 'rule_ckei']\n"
     ]
    }
   ],
   "source": [
    "keys = list(data.keys())\n",
    "print(keys)"
   ]
  },
  {
   "cell_type": "code",
   "execution_count": 24,
   "id": "3458a24a",
   "metadata": {},
   "outputs": [],
   "source": [
    "scraper.set_rule_aliases({str(keys[0]):'ImageUrl',str(keys[1]):'Title',str(keys[3]):'Price',str(keys[5]):'Reviews'})"
   ]
  },
  {
   "cell_type": "code",
   "execution_count": 25,
   "id": "307df765",
   "metadata": {},
   "outputs": [],
   "source": [
    "scraper.save(\"amazon_in.json\")"
   ]
  },
  {
   "cell_type": "code",
   "execution_count": 26,
   "id": "9a0cadce",
   "metadata": {},
   "outputs": [],
   "source": [
    "amazon_scraper = AutoScraper()\n",
    "amazon_scraper.load('amazon_in.json')"
   ]
  },
  {
   "cell_type": "code",
   "execution_count": 27,
   "id": "4ca52d5c",
   "metadata": {},
   "outputs": [],
   "source": [
    "search = \"samsung phones\"\n",
    "amazon_url=\"https://www.amazon.in/s?k={}&s=price-desc-rank\".format(search)\n",
    "\n",
    "data = amazon_scraper.get_result_similar(amazon_url, group_by_alias=True)\n",
    "search_data = tuple(zip(data['Title'],data['ImageUrl'],data['Price'],data['Reviews']))"
   ]
  },
  {
   "cell_type": "code",
   "execution_count": 28,
   "id": "776035d8",
   "metadata": {},
   "outputs": [],
   "source": [
    "df = pd.DataFrame(columns=['Query','Title','Price','Reviews','ImageUrl'])\n",
    "for i in range(len(search_data)):\n",
    "    df.loc[len(df)] = [search,search_data[i][0],search_data[i][2],search_data[i][3],search_data[i][1]]"
   ]
  },
  {
   "cell_type": "code",
   "execution_count": 29,
   "id": "633d9c02",
   "metadata": {},
   "outputs": [
    {
     "name": "stdout",
     "output_type": "stream",
     "text": [
      "(15, 5)\n"
     ]
    },
    {
     "data": {
      "text/html": [
       "<div>\n",
       "<style scoped>\n",
       "    .dataframe tbody tr th:only-of-type {\n",
       "        vertical-align: middle;\n",
       "    }\n",
       "\n",
       "    .dataframe tbody tr th {\n",
       "        vertical-align: top;\n",
       "    }\n",
       "\n",
       "    .dataframe thead th {\n",
       "        text-align: right;\n",
       "    }\n",
       "</style>\n",
       "<table border=\"1\" class=\"dataframe\">\n",
       "  <thead>\n",
       "    <tr style=\"text-align: right;\">\n",
       "      <th></th>\n",
       "      <th>Query</th>\n",
       "      <th>Title</th>\n",
       "      <th>Price</th>\n",
       "      <th>Reviews</th>\n",
       "      <th>ImageUrl</th>\n",
       "    </tr>\n",
       "  </thead>\n",
       "  <tbody>\n",
       "    <tr>\n",
       "      <th>0</th>\n",
       "      <td>samsung phones</td>\n",
       "      <td>Samsung Galaxy Z Fold5 5G (ICY Blue, 12GB RAM,...</td>\n",
       "      <td>1,84,999</td>\n",
       "      <td>1</td>\n",
       "      <td>https://m.media-amazon.com/images/I/71XwXWxa6Q...</td>\n",
       "    </tr>\n",
       "    <tr>\n",
       "      <th>1</th>\n",
       "      <td>samsung phones</td>\n",
       "      <td>Samsung Galaxy Z Fold5 5G (ICY Blue, 12GB RAM,...</td>\n",
       "      <td>1,64,999</td>\n",
       "      <td>2</td>\n",
       "      <td>https://m.media-amazon.com/images/I/71XwXWxa6Q...</td>\n",
       "    </tr>\n",
       "    <tr>\n",
       "      <th>2</th>\n",
       "      <td>samsung phones</td>\n",
       "      <td>Samsung Galaxy Z Fold5 5G (Phantom Black, 12GB...</td>\n",
       "      <td>1,64,999</td>\n",
       "      <td>3</td>\n",
       "      <td>https://m.media-amazon.com/images/I/71RLYJvBid...</td>\n",
       "    </tr>\n",
       "    <tr>\n",
       "      <th>3</th>\n",
       "      <td>samsung phones</td>\n",
       "      <td>Samsung Galaxy Z Fold5 5G (Cream, 12GB RAM, 51...</td>\n",
       "      <td>1,64,999</td>\n",
       "      <td>4</td>\n",
       "      <td>https://m.media-amazon.com/images/I/716pi7fRTp...</td>\n",
       "    </tr>\n",
       "    <tr>\n",
       "      <th>4</th>\n",
       "      <td>samsung phones</td>\n",
       "      <td>Samsung Galaxy Z Fold4 5G (Beige, 12GB RAM, 51...</td>\n",
       "      <td>1,64,999</td>\n",
       "      <td>5</td>\n",
       "      <td>https://m.media-amazon.com/images/I/714QNdK8BW...</td>\n",
       "    </tr>\n",
       "    <tr>\n",
       "      <th>5</th>\n",
       "      <td>samsung phones</td>\n",
       "      <td>Samsung Galaxy Z Fold4 5G (Graygreen, 12GB RAM...</td>\n",
       "      <td>1,54,998</td>\n",
       "      <td>6</td>\n",
       "      <td>https://m.media-amazon.com/images/I/71Vd1+ZnY-...</td>\n",
       "    </tr>\n",
       "    <tr>\n",
       "      <th>6</th>\n",
       "      <td>samsung phones</td>\n",
       "      <td>Samsung Galaxy Z Fold4 5G (Phantom Black, 12GB...</td>\n",
       "      <td>1,54,998</td>\n",
       "      <td>7</td>\n",
       "      <td>https://m.media-amazon.com/images/I/61cInRWmCl...</td>\n",
       "    </tr>\n",
       "    <tr>\n",
       "      <th>7</th>\n",
       "      <td>samsung phones</td>\n",
       "      <td>Samsung Galaxy Z Fold4 5G (Beige, 12GB RAM, 25...</td>\n",
       "      <td>1,54,998</td>\n",
       "      <td>8</td>\n",
       "      <td>https://m.media-amazon.com/images/I/714QNdK8BW...</td>\n",
       "    </tr>\n",
       "    <tr>\n",
       "      <th>8</th>\n",
       "      <td>samsung phones</td>\n",
       "      <td>Samsung Galaxy S23 Ultra 5G (Green, 12GB, 256G...</td>\n",
       "      <td>1,40,989</td>\n",
       "      <td>9</td>\n",
       "      <td>https://m.media-amazon.com/images/I/61i-Zpsn0M...</td>\n",
       "    </tr>\n",
       "    <tr>\n",
       "      <th>9</th>\n",
       "      <td>samsung phones</td>\n",
       "      <td>Samsung Galaxy S23 Ultra 5G (Green, 12GB, 512G...</td>\n",
       "      <td>1,34,999</td>\n",
       "      <td>10</td>\n",
       "      <td>https://m.media-amazon.com/images/I/61VfL-aiTo...</td>\n",
       "    </tr>\n",
       "    <tr>\n",
       "      <th>10</th>\n",
       "      <td>samsung phones</td>\n",
       "      <td>Samsung Galaxy S23 Ultra 5G (Phantom Black, 12...</td>\n",
       "      <td>1,34,999</td>\n",
       "      <td>11</td>\n",
       "      <td>https://m.media-amazon.com/images/I/61imYpK33q...</td>\n",
       "    </tr>\n",
       "    <tr>\n",
       "      <th>11</th>\n",
       "      <td>samsung phones</td>\n",
       "      <td>Samsung Galaxy S23 Ultra 5G (Cream, 12GB, 512G...</td>\n",
       "      <td>1,34,999</td>\n",
       "      <td>12</td>\n",
       "      <td>https://m.media-amazon.com/images/I/61j99uUfXN...</td>\n",
       "    </tr>\n",
       "    <tr>\n",
       "      <th>12</th>\n",
       "      <td>samsung phones</td>\n",
       "      <td>Refurbished</td>\n",
       "      <td>1,31,747</td>\n",
       "      <td>13</td>\n",
       "      <td>https://m.media-amazon.com/images/I/61cInRWmCl...</td>\n",
       "    </tr>\n",
       "    <tr>\n",
       "      <th>13</th>\n",
       "      <td>samsung phones</td>\n",
       "      <td>(Renewed) Samsung Galaxy Z Fold4 5G (Phantom B...</td>\n",
       "      <td>1,24,999</td>\n",
       "      <td>14</td>\n",
       "      <td>https://m.media-amazon.com/images/I/61imYpK33q...</td>\n",
       "    </tr>\n",
       "    <tr>\n",
       "      <th>14</th>\n",
       "      <td>samsung phones</td>\n",
       "      <td>Samsung Galaxy S23 Ultra 5G (Phantom Black, 12...</td>\n",
       "      <td>1,24,999</td>\n",
       "      <td>15</td>\n",
       "      <td>https://m.media-amazon.com/images/I/61VfL-aiTo...</td>\n",
       "    </tr>\n",
       "  </tbody>\n",
       "</table>\n",
       "</div>"
      ],
      "text/plain": [
       "             Query                                              Title  \\\n",
       "0   samsung phones  Samsung Galaxy Z Fold5 5G (ICY Blue, 12GB RAM,...   \n",
       "1   samsung phones  Samsung Galaxy Z Fold5 5G (ICY Blue, 12GB RAM,...   \n",
       "2   samsung phones  Samsung Galaxy Z Fold5 5G (Phantom Black, 12GB...   \n",
       "3   samsung phones  Samsung Galaxy Z Fold5 5G (Cream, 12GB RAM, 51...   \n",
       "4   samsung phones  Samsung Galaxy Z Fold4 5G (Beige, 12GB RAM, 51...   \n",
       "5   samsung phones  Samsung Galaxy Z Fold4 5G (Graygreen, 12GB RAM...   \n",
       "6   samsung phones  Samsung Galaxy Z Fold4 5G (Phantom Black, 12GB...   \n",
       "7   samsung phones  Samsung Galaxy Z Fold4 5G (Beige, 12GB RAM, 25...   \n",
       "8   samsung phones  Samsung Galaxy S23 Ultra 5G (Green, 12GB, 256G...   \n",
       "9   samsung phones  Samsung Galaxy S23 Ultra 5G (Green, 12GB, 512G...   \n",
       "10  samsung phones  Samsung Galaxy S23 Ultra 5G (Phantom Black, 12...   \n",
       "11  samsung phones  Samsung Galaxy S23 Ultra 5G (Cream, 12GB, 512G...   \n",
       "12  samsung phones                                        Refurbished   \n",
       "13  samsung phones  (Renewed) Samsung Galaxy Z Fold4 5G (Phantom B...   \n",
       "14  samsung phones  Samsung Galaxy S23 Ultra 5G (Phantom Black, 12...   \n",
       "\n",
       "       Price Reviews                                           ImageUrl  \n",
       "0   1,84,999       1  https://m.media-amazon.com/images/I/71XwXWxa6Q...  \n",
       "1   1,64,999       2  https://m.media-amazon.com/images/I/71XwXWxa6Q...  \n",
       "2   1,64,999       3  https://m.media-amazon.com/images/I/71RLYJvBid...  \n",
       "3   1,64,999       4  https://m.media-amazon.com/images/I/716pi7fRTp...  \n",
       "4   1,64,999       5  https://m.media-amazon.com/images/I/714QNdK8BW...  \n",
       "5   1,54,998       6  https://m.media-amazon.com/images/I/71Vd1+ZnY-...  \n",
       "6   1,54,998       7  https://m.media-amazon.com/images/I/61cInRWmCl...  \n",
       "7   1,54,998       8  https://m.media-amazon.com/images/I/714QNdK8BW...  \n",
       "8   1,40,989       9  https://m.media-amazon.com/images/I/61i-Zpsn0M...  \n",
       "9   1,34,999      10  https://m.media-amazon.com/images/I/61VfL-aiTo...  \n",
       "10  1,34,999      11  https://m.media-amazon.com/images/I/61imYpK33q...  \n",
       "11  1,34,999      12  https://m.media-amazon.com/images/I/61j99uUfXN...  \n",
       "12  1,31,747      13  https://m.media-amazon.com/images/I/61cInRWmCl...  \n",
       "13  1,24,999      14  https://m.media-amazon.com/images/I/61imYpK33q...  \n",
       "14  1,24,999      15  https://m.media-amazon.com/images/I/61VfL-aiTo...  "
      ]
     },
     "execution_count": 29,
     "metadata": {},
     "output_type": "execute_result"
    }
   ],
   "source": [
    "print(df.shape)\n",
    "df"
   ]
  },
  {
   "cell_type": "code",
   "execution_count": null,
   "id": "ad026480",
   "metadata": {},
   "outputs": [],
   "source": []
  }
 ],
 "metadata": {
  "kernelspec": {
   "display_name": "venv",
   "language": "python",
   "name": "venv"
  },
  "language_info": {
   "codemirror_mode": {
    "name": "ipython",
    "version": 3
   },
   "file_extension": ".py",
   "mimetype": "text/x-python",
   "name": "python",
   "nbconvert_exporter": "python",
   "pygments_lexer": "ipython3",
   "version": "3.11.3"
  }
 },
 "nbformat": 4,
 "nbformat_minor": 5
}
